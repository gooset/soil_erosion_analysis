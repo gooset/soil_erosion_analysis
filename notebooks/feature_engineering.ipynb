{
 "cells": [
  {
   "cell_type": "markdown",
   "id": "1b0e88d0",
   "metadata": {},
   "source": [
    "# Feature Engineering Notebook"
   ]
  },
  {
   "cell_type": "code",
   "execution_count": 2,
   "id": "1e82148c-046b-4d10-8088-3fa70ce69da6",
   "metadata": {},
   "outputs": [],
   "source": [
    "# Import libraries\n",
    "import pandas as pd\n",
    "import numpy as np"
   ]
  },
  {
   "cell_type": "code",
   "execution_count": 3,
   "id": "f17ce18b-824c-43b6-8184-a0949f1fad7f",
   "metadata": {},
   "outputs": [],
   "source": [
    "# Load cleaned data\n",
    "data_path = './data/processed/geo_df.csv'\n",
    "df = pd.read_csv(data_path)"
   ]
  },
  {
   "cell_type": "code",
   "execution_count": 4,
   "id": "d4dd6ee7-ee9e-4dc4-bce8-30b48af35c50",
   "metadata": {},
   "outputs": [],
   "source": [
    "# 1. Population Density\n",
    "df['population_density'] = df['population'] / df['agland']  # Population per agricultural land unit\n",
    "\n",
    "# 2. Agricultural Intensity (Yield per Area)\n",
    "df['yield_per_area'] = df['yield(tonnes)'] / df['agland']  # Yield per unit of agricultural land\n",
    "\n",
    "# 3. Pest Usage Intensity\n",
    "# Assuming that higher pest usage might correlate with areas prone to erosion due to soil degradation\n",
    "df['pest_intensity'] = df['pestUse(kg/ha)'] / df['agland']"
   ]
  },
  {
   "cell_type": "code",
   "execution_count": 7,
   "id": "cf35aa68-09a1-46b5-b3ec-bec3dc6bc577",
   "metadata": {},
   "outputs": [],
   "source": [
    "# 4. Climate Zone (Categorical Feature)\n",
    "df['climate_zone'] = pd.cut(\n",
    "    df['Latitude'].abs(),\n",
    "    bins=[0, 23.5, 45, 66.5, 90],\n",
    "    labels=['Tropical', 'Subtropical', 'Temperate', 'Polar']\n",
    ")"
   ]
  },
  {
   "cell_type": "code",
   "execution_count": 9,
   "id": "25c32b3b-2d9b-49a1-8f93-06692e944369",
   "metadata": {
    "tags": []
   },
   "outputs": [],
   "source": [
    "# 5. Decade for Time-Based Trends\n",
    "df['decade'] = (pd.to_datetime(df['Year']).dt.year // 10) * 10"
   ]
  },
  {
   "cell_type": "code",
   "execution_count": 13,
   "id": "2174688f-0d6d-47de-840e-ccabe6eaf3f4",
   "metadata": {
    "tags": []
   },
   "outputs": [
    {
     "data": {
      "text/plain": [
       "0       2020\n",
       "1       2020\n",
       "2       2020\n",
       "3       2020\n",
       "4       2020\n",
       "        ... \n",
       "9825    2020\n",
       "9826    2020\n",
       "9827    2020\n",
       "9828    2020\n",
       "9829    2020\n",
       "Name: decade, Length: 9830, dtype: int32"
      ]
     },
     "execution_count": 13,
     "metadata": {},
     "output_type": "execute_result"
    }
   ],
   "source": [
    "df['decade']"
   ]
  },
  {
   "cell_type": "code",
   "execution_count": 14,
   "id": "93ce5b93-6d68-46e3-be40-2d53eaad7e02",
   "metadata": {
    "tags": []
   },
   "outputs": [
    {
     "name": "stdout",
     "output_type": "stream",
     "text": [
      "Feature-engineered data saved to './data/processed/feature_engineered_data.csv'\n"
     ]
    }
   ],
   "source": [
    "# 6. Save Feature-Engineered Data\n",
    "df.to_csv('./data/processed/feature_engineered_data.csv', index=False)\n",
    "print(\"Feature-engineered data saved to './data/processed/feature_engineered_data.csv'\")"
   ]
  }
 ],
 "metadata": {
  "kernelspec": {
   "display_name": ".conda-default:Python",
   "language": "python",
   "name": "conda-env-.conda-default-py"
  },
  "language_info": {
   "codemirror_mode": {
    "name": "ipython",
    "version": 3
   },
   "file_extension": ".py",
   "mimetype": "text/x-python",
   "name": "python",
   "nbconvert_exporter": "python",
   "pygments_lexer": "ipython3",
   "version": "3.9.19"
  }
 },
 "nbformat": 4,
 "nbformat_minor": 5
}
