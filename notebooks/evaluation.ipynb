{
 "cells": [
  {
   "cell_type": "markdown",
   "metadata": {},
   "source": [
    "# Evaluation and Validation Notebook"
   ]
  },
  {
   "cell_type": "code",
   "execution_count": 1,
   "metadata": {
    "tags": []
   },
   "outputs": [],
   "source": [
    "# Import libraries\n",
    "import pandas as pd\n",
    "from sklearn.metrics import mean_squared_error, mean_absolute_error, r2_score\n",
    "from sklearn.model_selection import cross_val_score\n",
    "import seaborn as sns\n",
    "import matplotlib.pyplot as plt"
   ]
  },
  {
   "cell_type": "code",
   "execution_count": 2,
   "metadata": {
    "tags": []
   },
   "outputs": [],
   "source": [
    "# Load the model and test data\n",
    "data_path = './data/processed/feature_engineered_data.csv'\n",
    "df = pd.read_csv(data_path)\n",
    "X_test = df[['population_density', 'yield_per_area', 'pest_intensity', 'tempChange(C)', 'rainfall']]\n",
    "y_test = df['yield_per_area']"
   ]
  },
  {
   "cell_type": "code",
   "execution_count": 3,
   "metadata": {
    "tags": []
   },
   "outputs": [],
   "source": [
    "# Load trained model (assumed to have been saved from previous notebook)\n",
    "import joblib\n",
    "model = joblib.load('./models/random_forest_model.pkl')\n",
    "\n",
    "# Predict on test data\n",
    "y_pred = model.predict(X_test)"
   ]
  },
  {
   "cell_type": "code",
   "execution_count": 4,
   "metadata": {
    "tags": []
   },
   "outputs": [
    {
     "name": "stdout",
     "output_type": "stream",
     "text": [
      "Model Evaluation Metrics on Test Data:\n",
      "RMSE: 92.93526177241449\n",
      "MAE: 1.3573058483523146\n",
      "R2 Score: 0.5943871580715364\n"
     ]
    },
    {
     "name": "stderr",
     "output_type": "stream",
     "text": [
      "/home/studio-lab-user/.conda/envs/default/lib/python3.9/site-packages/sklearn/metrics/_regression.py:492: FutureWarning: 'squared' is deprecated in version 1.4 and will be removed in 1.6. To calculate the root mean squared error, use the function'root_mean_squared_error'.\n",
      "  warnings.warn(\n"
     ]
    }
   ],
   "source": [
    "# 1. Evaluation Metrics\n",
    "rmse = mean_squared_error(y_test, y_pred, squared=False)\n",
    "mae = mean_absolute_error(y_test, y_pred)\n",
    "r2 = r2_score(y_test, y_pred)\n",
    "\n",
    "print(f\"Model Evaluation Metrics on Test Data:\")\n",
    "print(f\"RMSE: {rmse}\")\n",
    "print(f\"MAE: {mae}\")\n",
    "print(f\"R2 Score: {r2}\")"
   ]
  },
  {
   "cell_type": "code",
   "execution_count": 5,
   "metadata": {
    "tags": []
   },
   "outputs": [
    {
     "name": "stdout",
     "output_type": "stream",
     "text": [
      "Cross-validated RMSE: 143.4265280493462\n"
     ]
    }
   ],
   "source": [
    "# 2. Cross-Validation for Robustness\n",
    "cv_scores = cross_val_score(model, X_test, y_test, cv=5, scoring='neg_mean_squared_error')\n",
    "cv_rmse = (-cv_scores.mean()) ** 0.5\n",
    "print(f\"Cross-validated RMSE: {cv_rmse}\")"
   ]
  },
  {
   "cell_type": "code",
   "execution_count": 2,
   "metadata": {
    "tags": []
   },
   "outputs": [],
   "source": [
    "# 3. Error Analysis\n",
    "errors = y_test - y_pred\n",
    "plt.figure(figsize=(10, 6))\n",
    "sns.histplot(errors, kde=True, color='purple')\n",
    "plt.title('Distribution of Prediction Errors')\n",
    "plt.xlabel('Prediction Error')\n",
    "plt.ylabel('Frequency')\n",
    "plt.show()"
   ]
  },
  {
   "cell_type": "code",
   "execution_count": null,
   "metadata": {
    "tags": []
   },
   "outputs": [],
   "source": [
    "# 4. Residual Analysis\n",
    "plt.figure(figsize=(10, 6))\n",
    "sns.scatterplot(x=y_test, y=errors, color='red')\n",
    "plt.axhline(0, linestyle='--', color='gray')\n",
    "plt.title('Residual Analysis')\n",
    "plt.xlabel('True Yield per Area')\n",
    "plt.ylabel('Prediction Error (Residuals)')\n",
    "plt.show()\n"
   ]
  }
 ],
 "metadata": {
  "kernelspec": {
   "display_name": ".conda-default:Python",
   "language": "python",
   "name": "conda-env-.conda-default-py"
  },
  "language_info": {
   "codemirror_mode": {
    "name": "ipython",
    "version": 3
   },
   "file_extension": ".py",
   "mimetype": "text/x-python",
   "name": "python",
   "nbconvert_exporter": "python",
   "pygments_lexer": "ipython3",
   "version": "3.9.19"
  }
 },
 "nbformat": 4,
 "nbformat_minor": 4
}
